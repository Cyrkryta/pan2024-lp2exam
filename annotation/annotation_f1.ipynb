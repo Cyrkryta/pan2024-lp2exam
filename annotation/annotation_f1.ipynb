{
 "cells": [
  {
   "cell_type": "code",
   "execution_count": 3,
   "metadata": {},
   "outputs": [
    {
     "name": "stdout",
     "output_type": "stream",
     "text": [
      "1500\n",
      "1500\n"
     ]
    }
   ],
   "source": [
    "import pandas as pd\n",
    "test = pd.read_csv('./data/test.csv')\n",
    "test_annotation = pd.read_csv('./data/test_annotation.csv')\n",
    "print(len(test))\n",
    "print(len(test_annotation))"
   ]
  },
  {
   "cell_type": "code",
   "execution_count": 12,
   "metadata": {},
   "outputs": [],
   "source": [
    "test_easy = test[test['difficulty'] == 'easy']['label'][:300].values\n",
    "test_medium = test[test['difficulty'] == 'medium']['label'][:300].values\n",
    "test_hard = test[test['difficulty'] == 'hard']['label'][:300].values\n",
    "\n",
    "test_annotation_easy = test_annotation['label'][:300].values\n",
    "test_annotation_medium = test_annotation['label'][500:800].values\n",
    "test_annotation_hard = test_annotation['label'][1000:1300].values"
   ]
  },
  {
   "cell_type": "code",
   "execution_count": 10,
   "metadata": {},
   "outputs": [],
   "source": [
    "# print(test_easy['paragraph1'] == test_annotation_easy['paragraph1'])\n",
    "# print(test_easy['paragraph2'] == test_annotation_easy['paragraph2'])\n",
    "\n",
    "# print(test_medium['paragraph1'] == test_annotation_medium['paragraph1'])\n",
    "# print(test_medium['paragraph2'] == test_annotation_medium['paragraph2'])\n",
    "\n",
    "# print(test_hard['paragraph1'] == test_annotation_hard['paragraph1'])\n",
    "# print(test_hard['paragraph2'] == test_annotation_hard['paragraph2'])\n"
   ]
  },
  {
   "cell_type": "code",
   "execution_count": 13,
   "metadata": {},
   "outputs": [
    {
     "name": "stdout",
     "output_type": "stream",
     "text": [
      "[1 1 1 1 1 1 1 1 1 1 0 1 0 1 1 1 1 1 1 1 1 1 1 1 1 1 1 1 1 0 1 1 1 1 1 1 1\n",
      " 1 1 1 1 1 0 0 0 1 1 1 0 1 1 1 1 1 1 1 1 1 1 1 1 1 1 1 1 1 1 1 1 1 1 1 1 1\n",
      " 1 1 0 1 1 1 1 1 1 1 1 1 1 1 1 1 1 1 1 1 1 1 0 1 1 1 1 1 1 1 1 1 1 1 1 1 1\n",
      " 1 1 0 1 1 1 1 0 1 1 0 1 1 0 1 1 1 1 1 1 1 1 1 1 1 1 1 1 1 1 1 1 0 1 1 1 1\n",
      " 1 1 1 1 1 1 1 1 0 1 1 1 1 1 1 1 1 1 1 1 1 1 1 1 1 1 1 1 1 1 1 1 1 1 1 0 1\n",
      " 1 1 1 1 1 1 1 1 1 1 1 1 1 1 1 1 1 1 1 1 1 1 1 1 1 1 1 1 1 1 1 1 1 1 1 0 1\n",
      " 1 1 1 1 1 1 1 1 1 1 1 1 1 1 1 1 1 1 1 1 1 1 0 1 1 1 1 1 1 1 1 1 0 1 1 1 0\n",
      " 1 1 1 1 0 0 1 1 1 1 1 1 1 1 0 1 1 1 1 1 1 1 1 1 1 1 1 1 1 1 1 1 1 1 1 1 1\n",
      " 1 1 1 1]\n"
     ]
    }
   ],
   "source": []
  },
  {
   "cell_type": "code",
   "execution_count": 17,
   "metadata": {},
   "outputs": [
    {
     "name": "stdout",
     "output_type": "stream",
     "text": [
      "Easy results: 0.9351145038167938\n",
      "Medium results: 0.8115942028985508\n",
      "Hard results: 0.4965986394557823\n"
     ]
    }
   ],
   "source": [
    "from sklearn.metrics import f1_score\n",
    "\n",
    "f1_easy = f1_score(test_easy, test_annotation_easy)\n",
    "f1_medium = f1_score(test_medium, test_annotation_medium)\n",
    "f1_hard = f1_score(test_hard, test_annotation_hard)\n",
    "\n",
    "print(f'Easy results: {f1_easy}')\n",
    "print(f'Medium results: {f1_medium}')\n",
    "print(f'Hard results: {f1_hard}')"
   ]
  },
  {
   "cell_type": "code",
   "execution_count": 22,
   "metadata": {},
   "outputs": [
    {
     "name": "stdout",
     "output_type": "stream",
     "text": [
      "F1 all data: 0.7876182287188306\n"
     ]
    }
   ],
   "source": [
    "import numpy as np\n",
    "y_true = np.concatenate((test_easy, test_medium, test_hard))\n",
    "y_pred = np.concatenate((test_annotation_easy, test_annotation_medium, test_annotation_hard))\n",
    "f1_full = f1_score(y_true, y_pred)\n",
    "print(f'F1 all data: {f1_full}')"
   ]
  },
  {
   "cell_type": "code",
   "execution_count": 23,
   "metadata": {},
   "outputs": [
    {
     "name": "stdout",
     "output_type": "stream",
     "text": [
      "0.7477691153903757\n"
     ]
    }
   ],
   "source": [
    "print((f1_easy + f1_medium + f1_hard) / 3)"
   ]
  },
  {
   "cell_type": "code",
   "execution_count": null,
   "metadata": {},
   "outputs": [],
   "source": []
  }
 ],
 "metadata": {
  "kernelspec": {
   "display_name": "writing-style-detection",
   "language": "python",
   "name": "python3"
  },
  "language_info": {
   "codemirror_mode": {
    "name": "ipython",
    "version": 3
   },
   "file_extension": ".py",
   "mimetype": "text/x-python",
   "name": "python",
   "nbconvert_exporter": "python",
   "pygments_lexer": "ipython3",
   "version": "3.10.14"
  }
 },
 "nbformat": 4,
 "nbformat_minor": 2
}
