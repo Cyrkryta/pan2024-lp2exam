{
 "cells": [
  {
   "cell_type": "code",
   "execution_count": 1,
   "metadata": {},
   "outputs": [],
   "source": [
    "import pandas as pd\n",
    "\n",
    "train_path = './FINAL-DATA/train_balanced.csv'\n",
    "val_path = './FINAL-DATA/validation_balanced.csv'\n",
    "df_train = pd.read_csv(train_path)\n",
    "df_val = pd.read_csv(val_path)"
   ]
  },
  {
   "cell_type": "code",
   "execution_count": 2,
   "metadata": {},
   "outputs": [],
   "source": [
    "swapped_train_df = pd.DataFrame({\n",
    "    'paragraph1': df_train['paragraph2'],\n",
    "    'paragraph2': df_train['paragraph1'],\n",
    "    'label': df_train['label'],\n",
    "    'difficulty': df_train['difficulty']\n",
    "})\n",
    "\n",
    "swapped_val_df = pd.DataFrame({\n",
    "    'paragraph1': df_val['paragraph2'],\n",
    "    'paragraph2': df_val['paragraph1'],\n",
    "    'label': df_val['label'],\n",
    "    'difficulty': df_val['difficulty']\n",
    "})"
   ]
  },
  {
   "cell_type": "code",
   "execution_count": 3,
   "metadata": {},
   "outputs": [],
   "source": [
    "df_train['paragraph'] = df_train['paragraph1'] + \" \" + df_train['paragraph2']\n",
    "df_val['paragraph'] = df_val['paragraph1'] + \" \" + df_val['paragraph2']\n",
    "\n",
    "train_concat_df = df_train[['paragraph', 'label', 'difficulty']]\n",
    "validation_concat_df = df_val[['paragraph', 'label', 'difficulty']]"
   ]
  },
  {
   "cell_type": "code",
   "execution_count": 4,
   "metadata": {},
   "outputs": [],
   "source": [
    "swapped_train_df['paragraph'] = swapped_train_df['paragraph1'] + \" \" + swapped_train_df['paragraph2']\n",
    "swapped_val_df['paragraph'] = swapped_val_df['paragraph1'] + \" \" + swapped_val_df['paragraph2']"
   ]
  },
  {
   "cell_type": "code",
   "execution_count": 5,
   "metadata": {},
   "outputs": [],
   "source": [
    "swapped_concat_train_df = swapped_train_df[['paragraph', 'label', 'difficulty']]\n",
    "swapped_concat_validation_df = swapped_val_df[['paragraph', 'label', 'difficulty']]"
   ]
  },
  {
   "cell_type": "code",
   "execution_count": 6,
   "metadata": {},
   "outputs": [],
   "source": [
    "combined_train_df = pd.concat([train_concat_df, swapped_concat_train_df], ignore_index=True)\n",
    "combined_val_df = pd.concat([validation_concat_df, swapped_concat_validation_df], ignore_index=True)"
   ]
  },
  {
   "cell_type": "code",
   "execution_count": 7,
   "metadata": {},
   "outputs": [],
   "source": [
    "combined_train_df.to_csv('./FINAL-DATA/train_augcat.csv', index=False)\n",
    "combined_val_df.to_csv('./FINAL-DATA/val_augcat.csv', index=False)"
   ]
  },
  {
   "cell_type": "code",
   "execution_count": null,
   "metadata": {},
   "outputs": [],
   "source": []
  }
 ],
 "metadata": {
  "kernelspec": {
   "display_name": "writing-style-detection",
   "language": "python",
   "name": "python3"
  },
  "language_info": {
   "codemirror_mode": {
    "name": "ipython",
    "version": 3
   },
   "file_extension": ".py",
   "mimetype": "text/x-python",
   "name": "python",
   "nbconvert_exporter": "python",
   "pygments_lexer": "ipython3",
   "version": "3.10.14"
  }
 },
 "nbformat": 4,
 "nbformat_minor": 2
}
