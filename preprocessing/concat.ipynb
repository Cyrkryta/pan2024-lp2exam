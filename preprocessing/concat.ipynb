{
 "cells": [
  {
   "cell_type": "code",
   "execution_count": 1,
   "metadata": {},
   "outputs": [],
   "source": [
    "import pandas as pd\n",
    "\n",
    "train_path = './FINAL-DATA/train_balanced.csv'\n",
    "val_path = './FINAL-DATA/validation_balanced.csv'\n",
    "df_train = pd.read_csv(train_path)\n",
    "df_val = pd.read_csv(val_path)"
   ]
  },
  {
   "cell_type": "code",
   "execution_count": 2,
   "metadata": {},
   "outputs": [],
   "source": [
    "# Concatenation: Train\n",
    "df_train['paragraph'] = df_train['paragraph1'] + \" \" + df_train['paragraph2']\n",
    "# Concatenation: Validation\n",
    "df_val['paragraph'] = df_val['paragraph1'] + \" \" + df_val['paragraph2']\n",
    "\n",
    "train_concat_df = df_train[['paragraph', 'label', 'difficulty']]\n",
    "validation_concat_df = df_val[['paragraph', 'label', 'difficulty']]"
   ]
  },
  {
   "cell_type": "code",
   "execution_count": 3,
   "metadata": {},
   "outputs": [],
   "source": [
    "train_concat_df.to_csv('./FINAL-DATA/train_cat.csv', index=False)\n",
    "validation_concat_df.to_csv('./FINAL-DATA/val_cat.csv', index=False)"
   ]
  }
 ],
 "metadata": {
  "kernelspec": {
   "display_name": "writing-style-detection",
   "language": "python",
   "name": "python3"
  },
  "language_info": {
   "codemirror_mode": {
    "name": "ipython",
    "version": 3
   },
   "file_extension": ".py",
   "mimetype": "text/x-python",
   "name": "python",
   "nbconvert_exporter": "python",
   "pygments_lexer": "ipython3",
   "version": "3.10.14"
  }
 },
 "nbformat": 4,
 "nbformat_minor": 2
}
