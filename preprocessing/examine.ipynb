{
 "cells": [
  {
   "cell_type": "code",
   "execution_count": 13,
   "metadata": {},
   "outputs": [],
   "source": [
    "import pandas as pd"
   ]
  },
  {
   "cell_type": "code",
   "execution_count": 14,
   "metadata": {},
   "outputs": [],
   "source": [
    "test = pd.read_csv('./FINAL-DATA/test.csv')\n",
    "test_cat = pd.read_csv('./FINAL-DATA/test_cat.csv')\n",
    "\n",
    "train = pd.read_csv('./FINAL-DATA/train_balanced.csv')\n",
    "train_not = pd.read_csv('./FINAL-DATA/train_not-balanced.csv')\n",
    "train_augcat = pd.read_csv('./FINAL-DATA/train_augcat.csv')\n",
    "train_aug = pd.read_csv('./FINAL-DATA/train_aug.csv')\n",
    "train_cat = pd.read_csv('./FINAL-DATA/train_cat.csv')\n",
    "\n",
    "validation = pd.read_csv('./FINAL-DATA/validation_balanced.csv')\n",
    "validation_augcat = pd.read_csv('./FINAL-DATA/val_augcat.csv')\n",
    "validation_cat = pd.read_csv('./FINAL-DATA/val_cat.csv')\n",
    "validation_aug = pd.read_csv('./FINAL-DATA/val_aug.csv')\n"
   ]
  },
  {
   "cell_type": "code",
   "execution_count": 15,
   "metadata": {},
   "outputs": [
    {
     "name": "stdout",
     "output_type": "stream",
     "text": [
      "5595\n",
      "5595\n",
      "38574\n",
      "51962\n",
      "77148\n",
      "77148\n",
      "38574\n",
      "5122\n",
      "10244\n",
      "5122\n",
      "10244\n"
     ]
    }
   ],
   "source": [
    "print(len(test))\n",
    "print(len(test_cat))\n",
    "\n",
    "print(len(train))\n",
    "print(len(train_not))\n",
    "\n",
    "print(len(train_augcat))\n",
    "print(len(train_aug))\n",
    "print(len(train_cat))\n",
    "\n",
    "print(len(validation))\n",
    "print(len(validation_augcat))\n",
    "print(len(validation_cat))\n",
    "print(len(validation_aug))"
   ]
  },
  {
   "cell_type": "code",
   "execution_count": null,
   "metadata": {},
   "outputs": [],
   "source": []
  }
 ],
 "metadata": {
  "kernelspec": {
   "display_name": "writing-style-detection",
   "language": "python",
   "name": "python3"
  },
  "language_info": {
   "codemirror_mode": {
    "name": "ipython",
    "version": 3
   },
   "file_extension": ".py",
   "mimetype": "text/x-python",
   "name": "python",
   "nbconvert_exporter": "python",
   "pygments_lexer": "ipython3",
   "version": "3.10.14"
  }
 },
 "nbformat": 4,
 "nbformat_minor": 2
}
